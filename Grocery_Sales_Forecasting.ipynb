{
 "cells": [
  {
   "cell_type": "markdown",
   "metadata": {
    "id": "a7Z3wje-4bwE"
   },
   "source": [
    "# Importing"
   ]
  },
  {
   "cell_type": "code",
   "execution_count": 1,
   "metadata": {
    "_cell_guid": "b1076dfc-b9ad-4769-8c92-a6c4dae69d19",
    "_uuid": "8f2839f25d086af736a60e9eeb907d3b93b6e0e5",
    "execution": {
     "iopub.execute_input": "2023-04-04T10:47:03.323281Z",
     "iopub.status.busy": "2023-04-04T10:47:03.322876Z",
     "iopub.status.idle": "2023-04-04T10:47:03.332651Z",
     "shell.execute_reply": "2023-04-04T10:47:03.330765Z",
     "shell.execute_reply.started": "2023-04-04T10:47:03.323251Z"
    },
    "id": "n-ZmQJwy4bwH"
   },
   "outputs": [],
   "source": [
    "import json\n",
    "import numpy as np\n",
    "import pandas as pd\n",
    "from matplotlib import pyplot as plt\n",
    "import seaborn as sns\n",
    "import datetime\n",
    "from datetime import date, timedelta\n",
    "from scipy import stats\n",
    "from sklearn.model_selection import train_test_split,GridSearchCV\n",
    "from sklearn.ensemble import RandomForestRegressor\n",
    "from sklearn.metrics import r2_score,mean_squared_error\n",
    "from sklearn.linear_model import LinearRegression,Lasso,Ridge\n",
    "from keras.models import Sequential\n",
    "from keras.layers.core import Dense, Dropout, Activation\n",
    "import warnings\n",
    "warnings.filterwarnings('ignore')"
   ]
  },
  {
   "cell_type": "markdown",
   "metadata": {},
   "source": [
    "# Data Importing"
   ]
  },
  {
   "cell_type": "code",
   "execution_count": 2,
   "metadata": {
    "execution": {
     "iopub.execute_input": "2023-04-04T10:26:39.647379Z",
     "iopub.status.busy": "2023-04-04T10:26:39.646971Z",
     "iopub.status.idle": "2023-04-04T10:27:40.572201Z",
     "shell.execute_reply": "2023-04-04T10:27:40.571068Z",
     "shell.execute_reply.started": "2023-04-04T10:26:39.647342Z"
    },
    "id": "u_UemUvK4bwJ"
   },
   "outputs": [
    {
     "ename": "MemoryError",
     "evalue": "Unable to allocate 957. MiB for an array with shape (1, 125497040) and data type float64",
     "output_type": "error",
     "traceback": [
      "\u001b[1;31m---------------------------------------------------------------------------\u001b[0m",
      "\u001b[1;31mMemoryError\u001b[0m                               Traceback (most recent call last)",
      "\u001b[1;32m~\\AppData\\Local\\Temp\\ipykernel_16684\\2981309567.py\u001b[0m in \u001b[0;36m<module>\u001b[1;34m\u001b[0m\n\u001b[0;32m      4\u001b[0m           'onpromotion': np.dtype('O')}\n\u001b[0;32m      5\u001b[0m \u001b[1;33m\u001b[0m\u001b[0m\n\u001b[1;32m----> 6\u001b[1;33m \u001b[0mtrain\u001b[0m \u001b[1;33m=\u001b[0m \u001b[0mpd\u001b[0m\u001b[1;33m.\u001b[0m\u001b[0mread_csv\u001b[0m\u001b[1;33m(\u001b[0m\u001b[1;34m'data/train.csv'\u001b[0m\u001b[1;33m,\u001b[0m \u001b[0mdtype\u001b[0m\u001b[1;33m=\u001b[0m\u001b[0mdtypes\u001b[0m\u001b[1;33m)\u001b[0m\u001b[1;33m\u001b[0m\u001b[1;33m\u001b[0m\u001b[0m\n\u001b[0m\u001b[0;32m      7\u001b[0m \u001b[0mtest\u001b[0m \u001b[1;33m=\u001b[0m \u001b[0mpd\u001b[0m\u001b[1;33m.\u001b[0m\u001b[0mread_csv\u001b[0m\u001b[1;33m(\u001b[0m\u001b[1;34m'data/test.csv'\u001b[0m\u001b[1;33m,\u001b[0m \u001b[0mdtype\u001b[0m\u001b[1;33m=\u001b[0m\u001b[0mdtypes\u001b[0m\u001b[1;33m)\u001b[0m\u001b[1;33m\u001b[0m\u001b[1;33m\u001b[0m\u001b[0m\n\u001b[0;32m      8\u001b[0m \u001b[0mstores\u001b[0m \u001b[1;33m=\u001b[0m \u001b[0mpd\u001b[0m\u001b[1;33m.\u001b[0m\u001b[0mread_csv\u001b[0m\u001b[1;33m(\u001b[0m\u001b[1;34m'data/stores.csv'\u001b[0m\u001b[1;33m)\u001b[0m\u001b[1;33m\u001b[0m\u001b[1;33m\u001b[0m\u001b[0m\n",
      "\u001b[1;32m~\\anaconda3\\lib\\site-packages\\pandas\\util\\_decorators.py\u001b[0m in \u001b[0;36mwrapper\u001b[1;34m(*args, **kwargs)\u001b[0m\n\u001b[0;32m    309\u001b[0m                     \u001b[0mstacklevel\u001b[0m\u001b[1;33m=\u001b[0m\u001b[0mstacklevel\u001b[0m\u001b[1;33m,\u001b[0m\u001b[1;33m\u001b[0m\u001b[1;33m\u001b[0m\u001b[0m\n\u001b[0;32m    310\u001b[0m                 )\n\u001b[1;32m--> 311\u001b[1;33m             \u001b[1;32mreturn\u001b[0m \u001b[0mfunc\u001b[0m\u001b[1;33m(\u001b[0m\u001b[1;33m*\u001b[0m\u001b[0margs\u001b[0m\u001b[1;33m,\u001b[0m \u001b[1;33m**\u001b[0m\u001b[0mkwargs\u001b[0m\u001b[1;33m)\u001b[0m\u001b[1;33m\u001b[0m\u001b[1;33m\u001b[0m\u001b[0m\n\u001b[0m\u001b[0;32m    312\u001b[0m \u001b[1;33m\u001b[0m\u001b[0m\n\u001b[0;32m    313\u001b[0m         \u001b[1;32mreturn\u001b[0m \u001b[0mwrapper\u001b[0m\u001b[1;33m\u001b[0m\u001b[1;33m\u001b[0m\u001b[0m\n",
      "\u001b[1;32m~\\anaconda3\\lib\\site-packages\\pandas\\io\\parsers\\readers.py\u001b[0m in \u001b[0;36mread_csv\u001b[1;34m(filepath_or_buffer, sep, delimiter, header, names, index_col, usecols, squeeze, prefix, mangle_dupe_cols, dtype, engine, converters, true_values, false_values, skipinitialspace, skiprows, skipfooter, nrows, na_values, keep_default_na, na_filter, verbose, skip_blank_lines, parse_dates, infer_datetime_format, keep_date_col, date_parser, dayfirst, cache_dates, iterator, chunksize, compression, thousands, decimal, lineterminator, quotechar, quoting, doublequote, escapechar, comment, encoding, encoding_errors, dialect, error_bad_lines, warn_bad_lines, on_bad_lines, delim_whitespace, low_memory, memory_map, float_precision, storage_options)\u001b[0m\n\u001b[0;32m    676\u001b[0m     \u001b[0mkwds\u001b[0m\u001b[1;33m.\u001b[0m\u001b[0mupdate\u001b[0m\u001b[1;33m(\u001b[0m\u001b[0mkwds_defaults\u001b[0m\u001b[1;33m)\u001b[0m\u001b[1;33m\u001b[0m\u001b[1;33m\u001b[0m\u001b[0m\n\u001b[0;32m    677\u001b[0m \u001b[1;33m\u001b[0m\u001b[0m\n\u001b[1;32m--> 678\u001b[1;33m     \u001b[1;32mreturn\u001b[0m \u001b[0m_read\u001b[0m\u001b[1;33m(\u001b[0m\u001b[0mfilepath_or_buffer\u001b[0m\u001b[1;33m,\u001b[0m \u001b[0mkwds\u001b[0m\u001b[1;33m)\u001b[0m\u001b[1;33m\u001b[0m\u001b[1;33m\u001b[0m\u001b[0m\n\u001b[0m\u001b[0;32m    679\u001b[0m \u001b[1;33m\u001b[0m\u001b[0m\n\u001b[0;32m    680\u001b[0m \u001b[1;33m\u001b[0m\u001b[0m\n",
      "\u001b[1;32m~\\anaconda3\\lib\\site-packages\\pandas\\io\\parsers\\readers.py\u001b[0m in \u001b[0;36m_read\u001b[1;34m(filepath_or_buffer, kwds)\u001b[0m\n\u001b[0;32m    579\u001b[0m \u001b[1;33m\u001b[0m\u001b[0m\n\u001b[0;32m    580\u001b[0m     \u001b[1;32mwith\u001b[0m \u001b[0mparser\u001b[0m\u001b[1;33m:\u001b[0m\u001b[1;33m\u001b[0m\u001b[1;33m\u001b[0m\u001b[0m\n\u001b[1;32m--> 581\u001b[1;33m         \u001b[1;32mreturn\u001b[0m \u001b[0mparser\u001b[0m\u001b[1;33m.\u001b[0m\u001b[0mread\u001b[0m\u001b[1;33m(\u001b[0m\u001b[0mnrows\u001b[0m\u001b[1;33m)\u001b[0m\u001b[1;33m\u001b[0m\u001b[1;33m\u001b[0m\u001b[0m\n\u001b[0m\u001b[0;32m    582\u001b[0m \u001b[1;33m\u001b[0m\u001b[0m\n\u001b[0;32m    583\u001b[0m \u001b[1;33m\u001b[0m\u001b[0m\n",
      "\u001b[1;32m~\\anaconda3\\lib\\site-packages\\pandas\\io\\parsers\\readers.py\u001b[0m in \u001b[0;36mread\u001b[1;34m(self, nrows)\u001b[0m\n\u001b[0;32m   1266\u001b[0m                 \u001b[0mnew_rows\u001b[0m \u001b[1;33m=\u001b[0m \u001b[0mlen\u001b[0m\u001b[1;33m(\u001b[0m\u001b[0mindex\u001b[0m\u001b[1;33m)\u001b[0m\u001b[1;33m\u001b[0m\u001b[1;33m\u001b[0m\u001b[0m\n\u001b[0;32m   1267\u001b[0m \u001b[1;33m\u001b[0m\u001b[0m\n\u001b[1;32m-> 1268\u001b[1;33m             \u001b[0mdf\u001b[0m \u001b[1;33m=\u001b[0m \u001b[0mDataFrame\u001b[0m\u001b[1;33m(\u001b[0m\u001b[0mcol_dict\u001b[0m\u001b[1;33m,\u001b[0m \u001b[0mcolumns\u001b[0m\u001b[1;33m=\u001b[0m\u001b[0mcolumns\u001b[0m\u001b[1;33m,\u001b[0m \u001b[0mindex\u001b[0m\u001b[1;33m=\u001b[0m\u001b[0mindex\u001b[0m\u001b[1;33m)\u001b[0m\u001b[1;33m\u001b[0m\u001b[1;33m\u001b[0m\u001b[0m\n\u001b[0m\u001b[0;32m   1269\u001b[0m \u001b[1;33m\u001b[0m\u001b[0m\n\u001b[0;32m   1270\u001b[0m             \u001b[0mself\u001b[0m\u001b[1;33m.\u001b[0m\u001b[0m_currow\u001b[0m \u001b[1;33m+=\u001b[0m \u001b[0mnew_rows\u001b[0m\u001b[1;33m\u001b[0m\u001b[1;33m\u001b[0m\u001b[0m\n",
      "\u001b[1;32m~\\anaconda3\\lib\\site-packages\\pandas\\core\\frame.py\u001b[0m in \u001b[0;36m__init__\u001b[1;34m(self, data, index, columns, dtype, copy)\u001b[0m\n\u001b[0;32m    634\u001b[0m         \u001b[1;32melif\u001b[0m \u001b[0misinstance\u001b[0m\u001b[1;33m(\u001b[0m\u001b[0mdata\u001b[0m\u001b[1;33m,\u001b[0m \u001b[0mdict\u001b[0m\u001b[1;33m)\u001b[0m\u001b[1;33m:\u001b[0m\u001b[1;33m\u001b[0m\u001b[1;33m\u001b[0m\u001b[0m\n\u001b[0;32m    635\u001b[0m             \u001b[1;31m# GH#38939 de facto copy defaults to False only in non-dict cases\u001b[0m\u001b[1;33m\u001b[0m\u001b[1;33m\u001b[0m\u001b[0m\n\u001b[1;32m--> 636\u001b[1;33m             \u001b[0mmgr\u001b[0m \u001b[1;33m=\u001b[0m \u001b[0mdict_to_mgr\u001b[0m\u001b[1;33m(\u001b[0m\u001b[0mdata\u001b[0m\u001b[1;33m,\u001b[0m \u001b[0mindex\u001b[0m\u001b[1;33m,\u001b[0m \u001b[0mcolumns\u001b[0m\u001b[1;33m,\u001b[0m \u001b[0mdtype\u001b[0m\u001b[1;33m=\u001b[0m\u001b[0mdtype\u001b[0m\u001b[1;33m,\u001b[0m \u001b[0mcopy\u001b[0m\u001b[1;33m=\u001b[0m\u001b[0mcopy\u001b[0m\u001b[1;33m,\u001b[0m \u001b[0mtyp\u001b[0m\u001b[1;33m=\u001b[0m\u001b[0mmanager\u001b[0m\u001b[1;33m)\u001b[0m\u001b[1;33m\u001b[0m\u001b[1;33m\u001b[0m\u001b[0m\n\u001b[0m\u001b[0;32m    637\u001b[0m         \u001b[1;32melif\u001b[0m \u001b[0misinstance\u001b[0m\u001b[1;33m(\u001b[0m\u001b[0mdata\u001b[0m\u001b[1;33m,\u001b[0m \u001b[0mma\u001b[0m\u001b[1;33m.\u001b[0m\u001b[0mMaskedArray\u001b[0m\u001b[1;33m)\u001b[0m\u001b[1;33m:\u001b[0m\u001b[1;33m\u001b[0m\u001b[1;33m\u001b[0m\u001b[0m\n\u001b[0;32m    638\u001b[0m             \u001b[1;32mimport\u001b[0m \u001b[0mnumpy\u001b[0m\u001b[1;33m.\u001b[0m\u001b[0mma\u001b[0m\u001b[1;33m.\u001b[0m\u001b[0mmrecords\u001b[0m \u001b[1;32mas\u001b[0m \u001b[0mmrecords\u001b[0m\u001b[1;33m\u001b[0m\u001b[1;33m\u001b[0m\u001b[0m\n",
      "\u001b[1;32m~\\anaconda3\\lib\\site-packages\\pandas\\core\\internals\\construction.py\u001b[0m in \u001b[0;36mdict_to_mgr\u001b[1;34m(data, index, columns, dtype, typ, copy)\u001b[0m\n\u001b[0;32m    500\u001b[0m         \u001b[1;31m# TODO: can we get rid of the dt64tz special case above?\u001b[0m\u001b[1;33m\u001b[0m\u001b[1;33m\u001b[0m\u001b[0m\n\u001b[0;32m    501\u001b[0m \u001b[1;33m\u001b[0m\u001b[0m\n\u001b[1;32m--> 502\u001b[1;33m     \u001b[1;32mreturn\u001b[0m \u001b[0marrays_to_mgr\u001b[0m\u001b[1;33m(\u001b[0m\u001b[0marrays\u001b[0m\u001b[1;33m,\u001b[0m \u001b[0mcolumns\u001b[0m\u001b[1;33m,\u001b[0m \u001b[0mindex\u001b[0m\u001b[1;33m,\u001b[0m \u001b[0mdtype\u001b[0m\u001b[1;33m=\u001b[0m\u001b[0mdtype\u001b[0m\u001b[1;33m,\u001b[0m \u001b[0mtyp\u001b[0m\u001b[1;33m=\u001b[0m\u001b[0mtyp\u001b[0m\u001b[1;33m,\u001b[0m \u001b[0mconsolidate\u001b[0m\u001b[1;33m=\u001b[0m\u001b[0mcopy\u001b[0m\u001b[1;33m)\u001b[0m\u001b[1;33m\u001b[0m\u001b[1;33m\u001b[0m\u001b[0m\n\u001b[0m\u001b[0;32m    503\u001b[0m \u001b[1;33m\u001b[0m\u001b[0m\n\u001b[0;32m    504\u001b[0m \u001b[1;33m\u001b[0m\u001b[0m\n",
      "\u001b[1;32m~\\anaconda3\\lib\\site-packages\\pandas\\core\\internals\\construction.py\u001b[0m in \u001b[0;36marrays_to_mgr\u001b[1;34m(arrays, columns, index, dtype, verify_integrity, typ, consolidate)\u001b[0m\n\u001b[0;32m    154\u001b[0m \u001b[1;33m\u001b[0m\u001b[0m\n\u001b[0;32m    155\u001b[0m     \u001b[1;32mif\u001b[0m \u001b[0mtyp\u001b[0m \u001b[1;33m==\u001b[0m \u001b[1;34m\"block\"\u001b[0m\u001b[1;33m:\u001b[0m\u001b[1;33m\u001b[0m\u001b[1;33m\u001b[0m\u001b[0m\n\u001b[1;32m--> 156\u001b[1;33m         return create_block_manager_from_column_arrays(\n\u001b[0m\u001b[0;32m    157\u001b[0m             \u001b[0marrays\u001b[0m\u001b[1;33m,\u001b[0m \u001b[0maxes\u001b[0m\u001b[1;33m,\u001b[0m \u001b[0mconsolidate\u001b[0m\u001b[1;33m=\u001b[0m\u001b[0mconsolidate\u001b[0m\u001b[1;33m\u001b[0m\u001b[1;33m\u001b[0m\u001b[0m\n\u001b[0;32m    158\u001b[0m         )\n",
      "\u001b[1;32m~\\anaconda3\\lib\\site-packages\\pandas\\core\\internals\\managers.py\u001b[0m in \u001b[0;36mcreate_block_manager_from_column_arrays\u001b[1;34m(arrays, axes, consolidate)\u001b[0m\n\u001b[0;32m   1966\u001b[0m \u001b[1;33m\u001b[0m\u001b[0m\n\u001b[0;32m   1967\u001b[0m     \u001b[1;32mtry\u001b[0m\u001b[1;33m:\u001b[0m\u001b[1;33m\u001b[0m\u001b[1;33m\u001b[0m\u001b[0m\n\u001b[1;32m-> 1968\u001b[1;33m         \u001b[0mblocks\u001b[0m \u001b[1;33m=\u001b[0m \u001b[0m_form_blocks\u001b[0m\u001b[1;33m(\u001b[0m\u001b[0marrays\u001b[0m\u001b[1;33m,\u001b[0m \u001b[0mconsolidate\u001b[0m\u001b[1;33m)\u001b[0m\u001b[1;33m\u001b[0m\u001b[1;33m\u001b[0m\u001b[0m\n\u001b[0m\u001b[0;32m   1969\u001b[0m         \u001b[0mmgr\u001b[0m \u001b[1;33m=\u001b[0m \u001b[0mBlockManager\u001b[0m\u001b[1;33m(\u001b[0m\u001b[0mblocks\u001b[0m\u001b[1;33m,\u001b[0m \u001b[0maxes\u001b[0m\u001b[1;33m,\u001b[0m \u001b[0mverify_integrity\u001b[0m\u001b[1;33m=\u001b[0m\u001b[1;32mFalse\u001b[0m\u001b[1;33m)\u001b[0m\u001b[1;33m\u001b[0m\u001b[1;33m\u001b[0m\u001b[0m\n\u001b[0;32m   1970\u001b[0m     \u001b[1;32mexcept\u001b[0m \u001b[0mValueError\u001b[0m \u001b[1;32mas\u001b[0m \u001b[0me\u001b[0m\u001b[1;33m:\u001b[0m\u001b[1;33m\u001b[0m\u001b[1;33m\u001b[0m\u001b[0m\n",
      "\u001b[1;32m~\\anaconda3\\lib\\site-packages\\pandas\\core\\internals\\managers.py\u001b[0m in \u001b[0;36m_form_blocks\u001b[1;34m(arrays, consolidate)\u001b[0m\n\u001b[0;32m   2040\u001b[0m                 \u001b[0mdtype\u001b[0m \u001b[1;33m=\u001b[0m \u001b[0mnp\u001b[0m\u001b[1;33m.\u001b[0m\u001b[0mdtype\u001b[0m\u001b[1;33m(\u001b[0m\u001b[0mobject\u001b[0m\u001b[1;33m)\u001b[0m\u001b[1;33m\u001b[0m\u001b[1;33m\u001b[0m\u001b[0m\n\u001b[0;32m   2041\u001b[0m \u001b[1;33m\u001b[0m\u001b[0m\n\u001b[1;32m-> 2042\u001b[1;33m             \u001b[0mvalues\u001b[0m\u001b[1;33m,\u001b[0m \u001b[0mplacement\u001b[0m \u001b[1;33m=\u001b[0m \u001b[0m_stack_arrays\u001b[0m\u001b[1;33m(\u001b[0m\u001b[0mlist\u001b[0m\u001b[1;33m(\u001b[0m\u001b[0mtup_block\u001b[0m\u001b[1;33m)\u001b[0m\u001b[1;33m,\u001b[0m \u001b[0mdtype\u001b[0m\u001b[1;33m)\u001b[0m\u001b[1;33m\u001b[0m\u001b[1;33m\u001b[0m\u001b[0m\n\u001b[0m\u001b[0;32m   2043\u001b[0m             \u001b[1;32mif\u001b[0m \u001b[0mis_dtlike\u001b[0m\u001b[1;33m:\u001b[0m\u001b[1;33m\u001b[0m\u001b[1;33m\u001b[0m\u001b[0m\n\u001b[0;32m   2044\u001b[0m                 \u001b[0mvalues\u001b[0m \u001b[1;33m=\u001b[0m \u001b[0mensure_wrapped_if_datetimelike\u001b[0m\u001b[1;33m(\u001b[0m\u001b[0mvalues\u001b[0m\u001b[1;33m)\u001b[0m\u001b[1;33m\u001b[0m\u001b[1;33m\u001b[0m\u001b[0m\n",
      "\u001b[1;32m~\\anaconda3\\lib\\site-packages\\pandas\\core\\internals\\managers.py\u001b[0m in \u001b[0;36m_stack_arrays\u001b[1;34m(tuples, dtype)\u001b[0m\n\u001b[0;32m   2079\u001b[0m     \u001b[0mshape\u001b[0m \u001b[1;33m=\u001b[0m \u001b[1;33m(\u001b[0m\u001b[0mlen\u001b[0m\u001b[1;33m(\u001b[0m\u001b[0marrays\u001b[0m\u001b[1;33m)\u001b[0m\u001b[1;33m,\u001b[0m\u001b[1;33m)\u001b[0m \u001b[1;33m+\u001b[0m \u001b[0mfirst\u001b[0m\u001b[1;33m.\u001b[0m\u001b[0mshape\u001b[0m\u001b[1;33m\u001b[0m\u001b[1;33m\u001b[0m\u001b[0m\n\u001b[0;32m   2080\u001b[0m \u001b[1;33m\u001b[0m\u001b[0m\n\u001b[1;32m-> 2081\u001b[1;33m     \u001b[0mstacked\u001b[0m \u001b[1;33m=\u001b[0m \u001b[0mnp\u001b[0m\u001b[1;33m.\u001b[0m\u001b[0mempty\u001b[0m\u001b[1;33m(\u001b[0m\u001b[0mshape\u001b[0m\u001b[1;33m,\u001b[0m \u001b[0mdtype\u001b[0m\u001b[1;33m=\u001b[0m\u001b[0mdtype\u001b[0m\u001b[1;33m)\u001b[0m\u001b[1;33m\u001b[0m\u001b[1;33m\u001b[0m\u001b[0m\n\u001b[0m\u001b[0;32m   2082\u001b[0m     \u001b[1;32mfor\u001b[0m \u001b[0mi\u001b[0m\u001b[1;33m,\u001b[0m \u001b[0marr\u001b[0m \u001b[1;32min\u001b[0m \u001b[0menumerate\u001b[0m\u001b[1;33m(\u001b[0m\u001b[0marrays\u001b[0m\u001b[1;33m)\u001b[0m\u001b[1;33m:\u001b[0m\u001b[1;33m\u001b[0m\u001b[1;33m\u001b[0m\u001b[0m\n\u001b[0;32m   2083\u001b[0m         \u001b[0mstacked\u001b[0m\u001b[1;33m[\u001b[0m\u001b[0mi\u001b[0m\u001b[1;33m]\u001b[0m \u001b[1;33m=\u001b[0m \u001b[0marr\u001b[0m\u001b[1;33m\u001b[0m\u001b[1;33m\u001b[0m\u001b[0m\n",
      "\u001b[1;31mMemoryError\u001b[0m: Unable to allocate 957. MiB for an array with shape (1, 125497040) and data type float64"
     ]
    }
   ],
   "source": [
    "dtypes = {'store_nbr': np.dtype('int64'),\n",
    "          'item_nbr': np.dtype('int64'),\n",
    "          'unit_sales': np.dtype('float64'),\n",
    "          'onpromotion': np.dtype('O')}\n",
    "\n",
    "train = pd.read_csv('data/train.csv', dtype=dtypes)\n",
    "test = pd.read_csv('data/test.csv', dtype=dtypes)\n",
    "stores = pd.read_csv('data/stores.csv')\n",
    "items = pd.read_csv('data/items.csv')\n",
    "trans = pd.read_csv('data/transactions.csv')\n",
    "oil = pd.read_csv('data/oil.csv')\n",
    "holidays = pd.read_csv('data/holidays_events.csv')"
   ]
  },
  {
   "cell_type": "code",
   "execution_count": 3,
   "metadata": {
    "execution": {
     "iopub.execute_input": "2023-04-04T10:28:14.410704Z",
     "iopub.status.busy": "2023-04-04T10:28:14.409338Z",
     "iopub.status.idle": "2023-04-04T10:28:14.421238Z",
     "shell.execute_reply": "2023-04-04T10:28:14.420038Z",
     "shell.execute_reply.started": "2023-04-04T10:28:14.410646Z"
    },
    "id": "YnBKOf9M4bwJ",
    "outputId": "6224c9d6-401c-4805-dab9-693f0196f212"
   },
   "outputs": [
    {
     "ename": "NameError",
     "evalue": "name 'train' is not defined",
     "output_type": "error",
     "traceback": [
      "\u001b[1;31m---------------------------------------------------------------------------\u001b[0m",
      "\u001b[1;31mNameError\u001b[0m                                 Traceback (most recent call last)",
      "\u001b[1;32m~\\AppData\\Local\\Temp\\ipykernel_16684\\109054972.py\u001b[0m in \u001b[0;36m<module>\u001b[1;34m\u001b[0m\n\u001b[1;32m----> 1\u001b[1;33m \u001b[0mprint\u001b[0m\u001b[1;33m(\u001b[0m\u001b[1;34m\"Shape of train:\"\u001b[0m \u001b[1;33m,\u001b[0m \u001b[0mtrain\u001b[0m\u001b[1;33m.\u001b[0m\u001b[0mshape\u001b[0m\u001b[1;33m)\u001b[0m\u001b[1;33m\u001b[0m\u001b[1;33m\u001b[0m\u001b[0m\n\u001b[0m\u001b[0;32m      2\u001b[0m \u001b[0mprint\u001b[0m\u001b[1;33m(\u001b[0m\u001b[1;34m\"Shape of stores:\"\u001b[0m \u001b[1;33m,\u001b[0m \u001b[0mstores\u001b[0m\u001b[1;33m.\u001b[0m\u001b[0mshape\u001b[0m\u001b[1;33m)\u001b[0m\u001b[1;33m\u001b[0m\u001b[1;33m\u001b[0m\u001b[0m\n\u001b[0;32m      3\u001b[0m \u001b[0mprint\u001b[0m\u001b[1;33m(\u001b[0m\u001b[1;34m\"Shape of items:\"\u001b[0m \u001b[1;33m,\u001b[0m \u001b[0mitems\u001b[0m\u001b[1;33m.\u001b[0m\u001b[0mshape\u001b[0m\u001b[1;33m)\u001b[0m\u001b[1;33m\u001b[0m\u001b[1;33m\u001b[0m\u001b[0m\n\u001b[0;32m      4\u001b[0m \u001b[0mprint\u001b[0m\u001b[1;33m(\u001b[0m\u001b[1;34m\"Shape of transactions:\"\u001b[0m \u001b[1;33m,\u001b[0m \u001b[0mtrans\u001b[0m\u001b[1;33m.\u001b[0m\u001b[0mshape\u001b[0m\u001b[1;33m)\u001b[0m\u001b[1;33m\u001b[0m\u001b[1;33m\u001b[0m\u001b[0m\n\u001b[0;32m      5\u001b[0m \u001b[0mprint\u001b[0m\u001b[1;33m(\u001b[0m\u001b[1;34m\"Shape of oil:\"\u001b[0m \u001b[1;33m,\u001b[0m \u001b[0moil\u001b[0m\u001b[1;33m.\u001b[0m\u001b[0mshape\u001b[0m\u001b[1;33m)\u001b[0m\u001b[1;33m\u001b[0m\u001b[1;33m\u001b[0m\u001b[0m\n",
      "\u001b[1;31mNameError\u001b[0m: name 'train' is not defined"
     ]
    }
   ],
   "source": [
    "print(\"Shape of train:\" , train.shape)\n",
    "print(\"Shape of stores:\" , stores.shape)\n",
    "print(\"Shape of items:\" , items.shape)\n",
    "print(\"Shape of transactions:\" , trans.shape)\n",
    "print(\"Shape of oil:\" , oil.shape)\n",
    "print(\"Shape of holiday:\" , holidays.shape)"
   ]
  },
  {
   "cell_type": "code",
   "execution_count": 4,
   "metadata": {
    "execution": {
     "iopub.execute_input": "2023-04-04T10:28:39.902071Z",
     "iopub.status.busy": "2023-04-04T10:28:39.901640Z",
     "iopub.status.idle": "2023-04-04T10:28:39.920360Z",
     "shell.execute_reply": "2023-04-04T10:28:39.917846Z",
     "shell.execute_reply.started": "2023-04-04T10:28:39.902039Z"
    },
    "id": "v94YJGAR4bwJ",
    "outputId": "798371ba-8a2d-46b0-92ed-811743702a5a"
   },
   "outputs": [
    {
     "ename": "NameError",
     "evalue": "name 'oil' is not defined",
     "output_type": "error",
     "traceback": [
      "\u001b[1;31m---------------------------------------------------------------------------\u001b[0m",
      "\u001b[1;31mNameError\u001b[0m                                 Traceback (most recent call last)",
      "\u001b[1;32m~\\AppData\\Local\\Temp\\ipykernel_16684\\2799606803.py\u001b[0m in \u001b[0;36m<module>\u001b[1;34m\u001b[0m\n\u001b[0;32m      1\u001b[0m \u001b[1;31m# Checking Null Values\u001b[0m\u001b[1;33m\u001b[0m\u001b[1;33m\u001b[0m\u001b[0m\n\u001b[1;32m----> 2\u001b[1;33m \u001b[0mprint\u001b[0m\u001b[1;33m(\u001b[0m\u001b[1;34m\"Undefined Values in Oil columns:\"\u001b[0m\u001b[1;33m,\u001b[0m\u001b[0moil\u001b[0m\u001b[1;33m.\u001b[0m\u001b[0misnull\u001b[0m\u001b[1;33m(\u001b[0m\u001b[1;33m)\u001b[0m\u001b[1;33m.\u001b[0m\u001b[0many\u001b[0m\u001b[1;33m(\u001b[0m\u001b[1;33m)\u001b[0m\u001b[1;33m.\u001b[0m\u001b[0mvalues\u001b[0m\u001b[1;33m)\u001b[0m\u001b[1;33m\u001b[0m\u001b[1;33m\u001b[0m\u001b[0m\n\u001b[0m\u001b[0;32m      3\u001b[0m \u001b[0mprint\u001b[0m\u001b[1;33m(\u001b[0m\u001b[1;34m\"Undefined Values in holiday_events columns:\"\u001b[0m\u001b[1;33m,\u001b[0m\u001b[0mholidays\u001b[0m\u001b[1;33m.\u001b[0m\u001b[0misnull\u001b[0m\u001b[1;33m(\u001b[0m\u001b[1;33m)\u001b[0m\u001b[1;33m.\u001b[0m\u001b[0many\u001b[0m\u001b[1;33m(\u001b[0m\u001b[1;33m)\u001b[0m\u001b[1;33m.\u001b[0m\u001b[0mvalues\u001b[0m\u001b[1;33m)\u001b[0m\u001b[1;33m\u001b[0m\u001b[1;33m\u001b[0m\u001b[0m\n\u001b[0;32m      4\u001b[0m \u001b[0mprint\u001b[0m\u001b[1;33m(\u001b[0m\u001b[1;34m\"Undefined Values in stores columns:\"\u001b[0m\u001b[1;33m,\u001b[0m\u001b[0mstores\u001b[0m\u001b[1;33m.\u001b[0m\u001b[0mcolumns\u001b[0m\u001b[1;33m.\u001b[0m\u001b[0mvalues\u001b[0m\u001b[1;33m,\u001b[0m\u001b[0mstores\u001b[0m\u001b[1;33m.\u001b[0m\u001b[0misnull\u001b[0m\u001b[1;33m(\u001b[0m\u001b[1;33m)\u001b[0m\u001b[1;33m.\u001b[0m\u001b[0many\u001b[0m\u001b[1;33m(\u001b[0m\u001b[1;33m)\u001b[0m\u001b[1;33m.\u001b[0m\u001b[0mvalues\u001b[0m\u001b[1;33m)\u001b[0m\u001b[1;33m\u001b[0m\u001b[1;33m\u001b[0m\u001b[0m\n\u001b[0;32m      5\u001b[0m \u001b[0mprint\u001b[0m\u001b[1;33m(\u001b[0m\u001b[1;34m\"Undefined Values in transactions columns:\"\u001b[0m\u001b[1;33m,\u001b[0m\u001b[0mtrans\u001b[0m\u001b[1;33m.\u001b[0m\u001b[0misnull\u001b[0m\u001b[1;33m(\u001b[0m\u001b[1;33m)\u001b[0m\u001b[1;33m.\u001b[0m\u001b[0many\u001b[0m\u001b[1;33m(\u001b[0m\u001b[1;33m)\u001b[0m\u001b[1;33m.\u001b[0m\u001b[0mvalues\u001b[0m\u001b[1;33m)\u001b[0m\u001b[1;33m\u001b[0m\u001b[1;33m\u001b[0m\u001b[0m\n",
      "\u001b[1;31mNameError\u001b[0m: name 'oil' is not defined"
     ]
    }
   ],
   "source": [
    "# Checking Null Values\n",
    "print(\"Undefined Values in Oil columns:\",oil.isnull().any().values)\n",
    "print(\"Undefined Values in holiday_events columns:\",holidays.isnull().any().values)\n",
    "print(\"Undefined Values in stores columns:\",stores.columns.values,stores.isnull().any().values)\n",
    "print(\"Undefined Values in transactions columns:\",trans.isnull().any().values)"
   ]
  },
  {
   "cell_type": "code",
   "execution_count": null,
   "metadata": {
    "execution": {
     "iopub.execute_input": "2023-04-04T10:29:00.994696Z",
     "iopub.status.busy": "2023-04-04T10:29:00.994262Z",
     "iopub.status.idle": "2023-04-04T10:29:01.005132Z",
     "shell.execute_reply": "2023-04-04T10:29:01.003302Z",
     "shell.execute_reply.started": "2023-04-04T10:29:00.994656Z"
    },
    "id": "uLM4V1424bwK"
   },
   "outputs": [],
   "source": [
    "# drop any rows that contain missing values\n",
    "oil.dropna(inplace=True)"
   ]
  },
  {
   "cell_type": "code",
   "execution_count": null,
   "metadata": {
    "execution": {
     "iopub.execute_input": "2023-04-04T10:29:06.561542Z",
     "iopub.status.busy": "2023-04-04T10:29:06.561127Z",
     "iopub.status.idle": "2023-04-04T10:29:06.570094Z",
     "shell.execute_reply": "2023-04-04T10:29:06.568757Z",
     "shell.execute_reply.started": "2023-04-04T10:29:06.561507Z"
    },
    "id": "j-cPL-a44bwK",
    "outputId": "4732237f-8789-4274-f25d-e92950e057fb"
   },
   "outputs": [],
   "source": [
    "# Re-Checking Null Values\n",
    "print(\"Undefined Values in Oil columns:\",oil.isnull().any().values)"
   ]
  },
  {
   "cell_type": "markdown",
   "metadata": {
    "id": "fx02FppI4bwK"
   },
   "source": [
    "# Exploratory Data Analysis "
   ]
  },
  {
   "cell_type": "markdown",
   "metadata": {
    "id": "E6nUGhsG4bwK"
   },
   "source": [
    "## Oil"
   ]
  },
  {
   "cell_type": "code",
   "execution_count": null,
   "metadata": {
    "execution": {
     "iopub.execute_input": "2023-04-04T10:29:51.946096Z",
     "iopub.status.busy": "2023-04-04T10:29:51.945473Z",
     "iopub.status.idle": "2023-04-04T10:30:00.616652Z",
     "shell.execute_reply": "2023-04-04T10:30:00.615354Z",
     "shell.execute_reply.started": "2023-04-04T10:29:51.946062Z"
    },
    "id": "L7aFCScf4bwK",
    "outputId": "b9e751f8-b630-4ee8-c35e-82bfa5e5db22"
   },
   "outputs": [],
   "source": [
    "fig, ax = plt.subplots(figsize=(20,6))\n",
    "ax.plot(oil['date'], oil['dcoilwtico'].dropna(), color='green', linewidth=2)\n",
    "ax.fill_between(oil['date'], oil['dcoilwtico'].dropna(), 0, alpha=0.3, color='green')\n",
    "ax.set_ylabel('Daily Oil price')\n",
    "ax.set_title('Daily oil prices from Jan 2013 till July 2017')\n",
    "plt.show()"
   ]
  },
  {
   "cell_type": "markdown",
   "metadata": {
    "id": "J0O2HWAs4bwL"
   },
   "source": [
    "Between January 2013 and July 2017, the chart illustrates that there has been a downward trend in the daily price of oil. Although the price of oil initially increased and even exceeded $100 in some months of 2013, it started to drop sharply in the middle of 2014, leading to a significant decrease in the price of oil. This trend is supported by some brief online research, which indicates that oil prices were relatively stable from 2010 until mid-2014, when they experienced a drastic decline. This was due to a combination of factors such as weak demand caused by slow economic growth and the rise of alternative sources of crude oil like shale/tar sands."
   ]
  },
  {
   "cell_type": "markdown",
   "metadata": {
    "id": "Y_yTgQqT4bwL"
   },
   "source": [
    "## Stores"
   ]
  },
  {
   "cell_type": "code",
   "execution_count": null,
   "metadata": {
    "execution": {
     "iopub.execute_input": "2023-04-04T10:31:27.639630Z",
     "iopub.status.busy": "2023-04-04T10:31:27.638613Z",
     "iopub.status.idle": "2023-04-04T10:31:28.485610Z",
     "shell.execute_reply": "2023-04-04T10:31:28.484588Z",
     "shell.execute_reply.started": "2023-04-04T10:31:27.639561Z"
    },
    "id": "Er9YFRmA4bwL",
    "outputId": "075ca095-89ef-47dc-af61-8d5e1b41508d"
   },
   "outputs": [],
   "source": [
    "f, (ax1, ax2, ax3) = plt.subplots(3, 1, figsize=(14, 12))\n",
    "\n",
    "sns.countplot(x=\"city\", data=stores, ax=ax1)\n",
    "sns.countplot(x=\"state\", data=stores, ax=ax2)\n",
    "sns.countplot(x=\"cluster\", data=stores, ax=ax3)\n",
    "\n",
    "plt.setp(ax1.xaxis.get_majorticklabels(), rotation=70)\n",
    "plt.setp(ax2.xaxis.get_majorticklabels(), rotation=70)\n",
    "plt.tight_layout()"
   ]
  },
  {
   "cell_type": "markdown",
   "metadata": {
    "id": "nwy3aeF24bwL"
   },
   "source": [
    "Most of the stores are in Quito (from the Pichincha region) and Guayaquil (from the Guayas region) with Quito being the capital of Ecuador. As for the clusters they regroup stores of similar \"type\"."
   ]
  },
  {
   "cell_type": "markdown",
   "metadata": {
    "id": "VgR-WKtP4bwM"
   },
   "source": [
    "## Holiday Events"
   ]
  },
  {
   "cell_type": "code",
   "execution_count": null,
   "metadata": {
    "execution": {
     "iopub.execute_input": "2023-04-04T10:33:28.056874Z",
     "iopub.status.busy": "2023-04-04T10:33:28.056403Z",
     "iopub.status.idle": "2023-04-04T10:33:28.418280Z",
     "shell.execute_reply": "2023-04-04T10:33:28.416121Z",
     "shell.execute_reply.started": "2023-04-04T10:33:28.056835Z"
    },
    "id": "Atfisxrt4bwM",
    "outputId": "a6ee3519-6cea-4cf7-cabd-c9a38fec6f7b"
   },
   "outputs": [],
   "source": [
    "f, axf = plt.subplots(figsize=(14, 8))\n",
    "sns.countplot(x=\"locale_name\", data=holidays, ax=axf)\n",
    "plt.setp(axf.xaxis.get_majorticklabels(), rotation=80)\n",
    "plt.xlabel('City')\n",
    "plt.tight_layout()"
   ]
  },
  {
   "cell_type": "markdown",
   "metadata": {
    "id": "dSBVxOl24bwM"
   },
   "source": [
    "## Transactions"
   ]
  },
  {
   "cell_type": "code",
   "execution_count": null,
   "metadata": {
    "execution": {
     "iopub.execute_input": "2023-04-04T10:34:48.796940Z",
     "iopub.status.busy": "2023-04-04T10:34:48.796054Z",
     "iopub.status.idle": "2023-04-04T10:34:49.016787Z",
     "shell.execute_reply": "2023-04-04T10:34:49.015809Z",
     "shell.execute_reply.started": "2023-04-04T10:34:48.796897Z"
    },
    "id": "ghe6oH0X4bwN",
    "outputId": "6c0783ca-544e-40a3-8a06-4231015b23cc"
   },
   "outputs": [],
   "source": [
    "# Geographic visualization of sales by region\n",
    "sales_by_region = pd.merge(trans, stores, on='store_nbr').groupby('state')['transactions'].sum()\n",
    "sales_by_region.plot(kind='bar')\n",
    "plt.title('Total Sales by Region')\n",
    "plt.xlabel('Region')\n",
    "plt.ylabel('Total Sales')\n",
    "plt.show()"
   ]
  },
  {
   "cell_type": "markdown",
   "metadata": {
    "id": "hOJt_C_F4bwN"
   },
   "source": [
    "Pichincha has the highest sales"
   ]
  },
  {
   "cell_type": "markdown",
   "metadata": {
    "id": "o4jl0K864bwN"
   },
   "source": [
    "## Items"
   ]
  },
  {
   "cell_type": "code",
   "execution_count": null,
   "metadata": {
    "execution": {
     "iopub.execute_input": "2023-04-04T10:35:48.217567Z",
     "iopub.status.busy": "2023-04-04T10:35:48.216402Z",
     "iopub.status.idle": "2023-04-04T10:35:48.627865Z",
     "shell.execute_reply": "2023-04-04T10:35:48.626253Z",
     "shell.execute_reply.started": "2023-04-04T10:35:48.217526Z"
    },
    "id": "FT-3uW344bwN",
    "outputId": "28d4ff21-eda1-4273-a009-d93fbf31884f"
   },
   "outputs": [],
   "source": [
    "f, ax = plt.subplots(figsize=(16, 8))\n",
    "sns.countplot(x=\"family\", data=items, ax=ax)\n",
    "plt.setp(ax.xaxis.get_majorticklabels(), rotation=80);"
   ]
  },
  {
   "cell_type": "markdown",
   "metadata": {
    "id": "YHn6ZVy84bwN"
   },
   "source": [
    "As we can see from the plot, the top 3 family categories are the GROCERY I, BEVERAGES and CLEANING categories."
   ]
  },
  {
   "cell_type": "markdown",
   "metadata": {
    "id": "FzrOJzpt4bwP"
   },
   "source": [
    "# Data Preparation"
   ]
  },
  {
   "cell_type": "code",
   "execution_count": null,
   "metadata": {
    "execution": {
     "iopub.execute_input": "2023-04-04T10:40:17.869566Z",
     "iopub.status.busy": "2023-04-04T10:40:17.869097Z",
     "iopub.status.idle": "2023-04-04T10:40:28.776853Z",
     "shell.execute_reply": "2023-04-04T10:40:28.775615Z",
     "shell.execute_reply.started": "2023-04-04T10:40:17.869526Z"
    },
    "id": "RkE7c3594bwP",
    "outputId": "66167920-16ca-444f-d1b3-a6146f48c62c"
   },
   "outputs": [],
   "source": [
    "date_mask = (train['date'] >= '2017-07-15') & (train['date'] <= '2017-08-15')\n",
    "pd_train = train[date_mask]\n",
    "\n",
    "#Print the size\n",
    "len(pd_train)"
   ]
  },
  {
   "cell_type": "code",
   "execution_count": null,
   "metadata": {
    "execution": {
     "iopub.execute_input": "2023-04-04T10:40:28.780969Z",
     "iopub.status.busy": "2023-04-04T10:40:28.780527Z",
     "iopub.status.idle": "2023-04-04T10:40:29.399421Z",
     "shell.execute_reply": "2023-04-04T10:40:29.396990Z",
     "shell.execute_reply.started": "2023-04-04T10:40:28.780927Z"
    },
    "id": "9cgVwv-r4bwP"
   },
   "outputs": [],
   "source": [
    "#add missing date\n",
    "min_oil_date = min(pd_train.date)\n",
    "max_oil_date = max(pd_train.date)\n",
    "\n",
    "calendar = []\n",
    "\n",
    "d1 = datetime.datetime.strptime(min_oil_date, '%Y-%m-%d')  # start date date(2008, 8, 15)\n",
    "d2 = datetime.datetime.strptime(max_oil_date, '%Y-%m-%d')  # end date\n",
    "\n",
    "delta = d2 - d1         # timedelta\n",
    "\n",
    "for i in range(delta.days + 1):\n",
    "    calendar.append(datetime.date.strftime(d1 + timedelta(days=i), '%Y-%m-%d'))\n",
    "\n",
    "calendar = pd.DataFrame({'date':calendar})\n",
    "\n",
    "oil = calendar.merge(oil, left_on='date', right_on='date', how='left')"
   ]
  },
  {
   "cell_type": "code",
   "execution_count": null,
   "metadata": {
    "execution": {
     "iopub.execute_input": "2023-04-04T10:40:29.403671Z",
     "iopub.status.busy": "2023-04-04T10:40:29.403237Z",
     "iopub.status.idle": "2023-04-04T10:40:29.432859Z",
     "shell.execute_reply": "2023-04-04T10:40:29.430787Z",
     "shell.execute_reply.started": "2023-04-04T10:40:29.403630Z"
    },
    "id": "PGcNfWc-4bwP",
    "outputId": "155461d6-5f3c-4810-c39f-da988fb1cf5d"
   },
   "outputs": [],
   "source": [
    "#Check how many NA\n",
    "print(oil.isnull().sum(), '\\n')\n",
    "\n",
    "#Type\n",
    "print('Type : ', '\\n', oil.dtypes)\n",
    "\n",
    "#Print the 3 first line\n",
    "oil.head(5)"
   ]
  },
  {
   "cell_type": "code",
   "execution_count": null,
   "metadata": {
    "execution": {
     "iopub.execute_input": "2023-04-04T10:40:29.435710Z",
     "iopub.status.busy": "2023-04-04T10:40:29.435324Z",
     "iopub.status.idle": "2023-04-04T10:40:29.448429Z",
     "shell.execute_reply": "2023-04-04T10:40:29.447114Z",
     "shell.execute_reply.started": "2023-04-04T10:40:29.435674Z"
    },
    "id": "i5_NdqKF4bwP"
   },
   "outputs": [],
   "source": [
    "na_index_oil = oil[oil['dcoilwtico'].isnull() == True].index.values\n",
    "na_index_oil_plus = na_index_oil.copy()\n",
    "na_index_oil_minus = np.maximum(0, na_index_oil-1)\n",
    "\n",
    "for i in range(len(na_index_oil)):\n",
    "    k = 1\n",
    "    while (na_index_oil[min(i+k,len(na_index_oil)-1)] == na_index_oil[i]+k):\n",
    "        k += 1\n",
    "    na_index_oil_plus[i] = min(len(oil)-1, na_index_oil_plus[i] + k )\n",
    "\n",
    "#Apply the formula\n",
    "for i in range(len(na_index_oil)):\n",
    "    if (na_index_oil[i] == 0):\n",
    "        oil.loc[na_index_oil[i], 'dcoilwtico'] = oil.loc[na_index_oil_plus[i], 'dcoilwtico']\n",
    "    elif (na_index_oil[i] == len(oil)):\n",
    "        oil.loc[na_index_oil[i], 'dcoilwtico'] = oil.loc[na_index_oil_minus[i], 'dcoilwtico']\n",
    "    else:\n",
    "        oil.loc[na_index_oil[i], 'dcoilwtico'] = (oil.loc[na_index_oil_plus[i], 'dcoilwtico'] + oil.loc[na_index_oil_minus[i], 'dcoilwtico'])/ 2 "
   ]
  },
  {
   "cell_type": "code",
   "execution_count": null,
   "metadata": {
    "execution": {
     "iopub.execute_input": "2023-04-04T10:40:29.450842Z",
     "iopub.status.busy": "2023-04-04T10:40:29.450098Z",
     "iopub.status.idle": "2023-04-04T10:40:34.720052Z",
     "shell.execute_reply": "2023-04-04T10:40:34.719013Z",
     "shell.execute_reply.started": "2023-04-04T10:40:29.450770Z"
    },
    "id": "29So5AK94bwQ"
   },
   "outputs": [],
   "source": [
    "#Merge train\n",
    "pd_train = pd_train.drop('id', axis = 1)\n",
    "pd_train = pd_train.merge(stores, left_on='store_nbr', right_on='store_nbr', how='left')\n",
    "pd_train = pd_train.merge(items, left_on='item_nbr', right_on='item_nbr', how='left')\n",
    "pd_train = pd_train.merge(holidays, left_on='date', right_on='date', how='left')\n",
    "pd_train = pd_train.merge(oil, left_on='date', right_on='date', how='left')\n",
    "pd_train = pd_train.drop(['description', 'state', 'locale_name', 'class'], axis = 1)"
   ]
  },
  {
   "cell_type": "code",
   "execution_count": null,
   "metadata": {
    "execution": {
     "iopub.execute_input": "2023-04-04T10:40:34.721561Z",
     "iopub.status.busy": "2023-04-04T10:40:34.721294Z",
     "iopub.status.idle": "2023-04-04T10:40:35.177256Z",
     "shell.execute_reply": "2023-04-04T10:40:35.175541Z",
     "shell.execute_reply.started": "2023-04-04T10:40:34.721535Z"
    },
    "id": "rlZsAKy14bwQ",
    "outputId": "9d51be92-52e4-4dae-f30c-d2725092761e"
   },
   "outputs": [],
   "source": [
    "#Shape\n",
    "print('Shape : ', pd_train.shape, '\\n')\n",
    "\n",
    "#Type\n",
    "print('Type : ', '\\n', pd_train.dtypes)\n",
    "\n",
    "#Summary\n",
    "pd_train.describe()"
   ]
  },
  {
   "cell_type": "code",
   "execution_count": null,
   "metadata": {
    "execution": {
     "iopub.execute_input": "2023-04-04T10:42:00.451271Z",
     "iopub.status.busy": "2023-04-04T10:42:00.450883Z",
     "iopub.status.idle": "2023-04-04T10:42:00.906445Z",
     "shell.execute_reply": "2023-04-04T10:42:00.905106Z",
     "shell.execute_reply.started": "2023-04-04T10:42:00.451237Z"
    },
    "id": "zj2m4yS-4bwR",
    "outputId": "5422bc17-a334-4f06-e516-ba9f5c3e54f1"
   },
   "outputs": [],
   "source": [
    "# Get the N most purchased products\n",
    "def N_most_labels(data, variable , N , all='TRUE'):\n",
    "    labels_freq_pd = stats.itemfreq(data[variable])\n",
    "    labels_freq_pd = labels_freq_pd[labels_freq_pd[:, 1].argsort()[::-1]] #[::-1] ==> to sort in descending order\n",
    "    \n",
    "    if all == 'FALSE':\n",
    "        main_labels = labels_freq_pd[:,0][0:N]\n",
    "    else: \n",
    "        main_labels = labels_freq_pd[:,0][:]\n",
    "        \n",
    "    labels_raw_np = data[variable].to_numpy() #transform in numpy\n",
    "    labels_raw_np = labels_raw_np.reshape(labels_raw_np.shape[0],1)\n",
    "\n",
    "    labels_filtered_index = np.where(labels_raw_np == main_labels)\n",
    "    \n",
    "    return labels_freq_pd, labels_filtered_index\n",
    "\n",
    "label_freq, labels_filtered_index = N_most_labels(data = pd_train, variable = \"item_nbr\", N = 10, all='FALSE')\n",
    "print(\"labels_filtered_index[0].shape = \", labels_filtered_index[0].shape)\n",
    "\n",
    "pd_train_filtered = pd_train.loc[labels_filtered_index[0],:]\n",
    "print(\"pd_train_filtered.shape = \", pd_train_filtered.shape)"
   ]
  },
  {
   "cell_type": "code",
   "execution_count": null,
   "metadata": {
    "execution": {
     "iopub.execute_input": "2023-04-04T10:42:00.983174Z",
     "iopub.status.busy": "2023-04-04T10:42:00.982380Z",
     "iopub.status.idle": "2023-04-04T10:42:00.992503Z",
     "shell.execute_reply": "2023-04-04T10:42:00.991143Z",
     "shell.execute_reply.started": "2023-04-04T10:42:00.983129Z"
    },
    "id": "Wo16Cw5C4bwR",
    "outputId": "fb3f003b-2f82-413e-9719-924278e5d1f9"
   },
   "outputs": [],
   "source": [
    "label_freq[0:10]"
   ]
  },
  {
   "cell_type": "code",
   "execution_count": null,
   "metadata": {
    "execution": {
     "iopub.execute_input": "2023-04-04T10:42:01.488567Z",
     "iopub.status.busy": "2023-04-04T10:42:01.488183Z",
     "iopub.status.idle": "2023-04-04T10:42:01.518531Z",
     "shell.execute_reply": "2023-04-04T10:42:01.517004Z",
     "shell.execute_reply.started": "2023-04-04T10:42:01.488540Z"
    },
    "id": "b2p4NY5C4bwR",
    "outputId": "03a48242-27bf-4c3e-cd31-aefb9faf59bb"
   },
   "outputs": [],
   "source": [
    "#Fill in cells if there is no holyday by the value : \"no_holyday\"\n",
    "na_index_pd_train = pd_train_filtered[pd_train_filtered['type_y'].isnull() == True].index.values\n",
    "print(\"Size of na_index_pd_train : \", len(na_index_pd_train), '\\n')\n",
    "\n",
    "pd_train_filtered.loc[pd_train_filtered['type_y'].isnull(), 'type_y'] = \"no_holyday\"\n",
    "pd_train_filtered.loc[pd_train_filtered['locale'].isnull(), 'locale'] = \"no_holyday\"\n",
    "pd_train_filtered.loc[pd_train_filtered['transferred'].isnull(), 'transferred'] = \"no_holyday\"\n",
    "    \n",
    "#check is there is NA\n",
    "pd_train_filtered.isnull().sum()"
   ]
  },
  {
   "cell_type": "code",
   "execution_count": null,
   "metadata": {
    "execution": {
     "iopub.execute_input": "2023-04-04T10:42:05.161443Z",
     "iopub.status.busy": "2023-04-04T10:42:05.160247Z",
     "iopub.status.idle": "2023-04-04T10:42:05.184617Z",
     "shell.execute_reply": "2023-04-04T10:42:05.183494Z",
     "shell.execute_reply.started": "2023-04-04T10:42:05.161375Z"
    },
    "id": "U71krs9G4bwR"
   },
   "outputs": [],
   "source": [
    "def get_month_year(df):\n",
    "    df['month'] = df.date.apply(lambda x: x.split('-')[1])\n",
    "    df['year'] = df.date.apply(lambda x: x.split('-')[0])\n",
    "    \n",
    "    return df\n",
    "\n",
    "get_month_year(pd_train_filtered);"
   ]
  },
  {
   "cell_type": "code",
   "execution_count": null,
   "metadata": {
    "execution": {
     "iopub.execute_input": "2023-04-04T10:42:05.919753Z",
     "iopub.status.busy": "2023-04-04T10:42:05.918294Z",
     "iopub.status.idle": "2023-04-04T10:42:05.936392Z",
     "shell.execute_reply": "2023-04-04T10:42:05.935181Z",
     "shell.execute_reply.started": "2023-04-04T10:42:05.919690Z"
    },
    "id": "-r5281Ry4bwR"
   },
   "outputs": [],
   "source": [
    "pd_train_filtered['date'] = pd.to_datetime(pd_train_filtered['date'])\n",
    "pd_train_filtered['day'] = pd_train_filtered['date'].dt.strftime\n",
    "pd_train_filtered = pd_train_filtered.drop('date', axis=1)"
   ]
  },
  {
   "cell_type": "code",
   "execution_count": null,
   "metadata": {
    "execution": {
     "iopub.execute_input": "2023-04-04T10:42:08.448477Z",
     "iopub.status.busy": "2023-04-04T10:42:08.448006Z",
     "iopub.status.idle": "2023-04-04T10:42:08.473280Z",
     "shell.execute_reply": "2023-04-04T10:42:08.471213Z",
     "shell.execute_reply.started": "2023-04-04T10:42:08.448436Z"
    },
    "id": "67ZsNOzr4bwR",
    "outputId": "dab300a6-3a4b-48db-9686-1157abc51597"
   },
   "outputs": [],
   "source": [
    "pd_train_filtered.sample(10)"
   ]
  },
  {
   "cell_type": "code",
   "execution_count": null,
   "metadata": {
    "execution": {
     "iopub.execute_input": "2023-04-04T10:42:11.298662Z",
     "iopub.status.busy": "2023-04-04T10:42:11.298172Z",
     "iopub.status.idle": "2023-04-04T10:42:11.369753Z",
     "shell.execute_reply": "2023-04-04T10:42:11.368587Z",
     "shell.execute_reply.started": "2023-04-04T10:42:11.298624Z"
    },
    "id": "s0P9W4tv4bwR"
   },
   "outputs": [],
   "source": [
    "dummy_variables = ['onpromotion','city','type_x','cluster','store_nbr','item_nbr',\n",
    "                'family','perishable','type_y', 'locale', 'transferred', 'month', 'day']\n",
    "\n",
    "for var in dummy_variables:\n",
    "    dummy = pd.get_dummies(pd_train_filtered[var], prefix = var, drop_first = False)\n",
    "    pd_train_filtered = pd.concat([pd_train_filtered, dummy], axis = 1)\n",
    "\n",
    "pd_train_filtered = pd_train_filtered.drop(dummy_variables, axis = 1)\n",
    "pd_train_filtered = pd_train_filtered.drop(['year'], axis = 1)"
   ]
  },
  {
   "cell_type": "code",
   "execution_count": null,
   "metadata": {
    "execution": {
     "iopub.execute_input": "2023-04-04T10:42:11.703327Z",
     "iopub.status.busy": "2023-04-04T10:42:11.701933Z",
     "iopub.status.idle": "2023-04-04T10:42:11.729966Z",
     "shell.execute_reply": "2023-04-04T10:42:11.728579Z",
     "shell.execute_reply.started": "2023-04-04T10:42:11.703198Z"
    },
    "id": "xMFgWthM4bwS",
    "outputId": "2ce2dd1e-044f-4daa-9545-84e790f5d926"
   },
   "outputs": [],
   "source": [
    "print('Shape : ', pd_train_filtered.shape)\n",
    "pd_train_filtered.sample(10)"
   ]
  },
  {
   "cell_type": "code",
   "execution_count": null,
   "metadata": {
    "execution": {
     "iopub.execute_input": "2023-04-04T10:42:15.886764Z",
     "iopub.status.busy": "2023-04-04T10:42:15.885675Z",
     "iopub.status.idle": "2023-04-04T10:42:15.918909Z",
     "shell.execute_reply": "2023-04-04T10:42:15.917847Z",
     "shell.execute_reply.started": "2023-04-04T10:42:15.886716Z"
    },
    "id": "7ESNz6lN4bwS",
    "outputId": "9c161d49-158b-4948-ddcb-7fc3ab12b6cd"
   },
   "outputs": [],
   "source": [
    "#Re-scale\n",
    "min_train, max_train = pd_train_filtered['unit_sales'].min(), pd_train_filtered['unit_sales'].max()\n",
    "scalable_variables = ['unit_sales','dcoilwtico']\n",
    "\n",
    "for var in scalable_variables:\n",
    "    mini, maxi = pd_train_filtered[var].min(), pd_train_filtered[var].max()\n",
    "    pd_train_filtered.loc[:,var] = (pd_train_filtered[var] - mini) / (maxi - mini)\n",
    "print('Shape : ', pd_train_filtered.shape)\n",
    "pd_train_filtered.sample(10)"
   ]
  },
  {
   "cell_type": "code",
   "execution_count": null,
   "metadata": {
    "execution": {
     "iopub.execute_input": "2023-04-04T10:42:18.447705Z",
     "iopub.status.busy": "2023-04-04T10:42:18.447256Z",
     "iopub.status.idle": "2023-04-04T10:42:18.458253Z",
     "shell.execute_reply": "2023-04-04T10:42:18.456889Z",
     "shell.execute_reply.started": "2023-04-04T10:42:18.447665Z"
    },
    "id": "CC_qJ40l4bwS",
    "outputId": "3edfe44f-f0fc-4a97-808d-06ba64affc9d"
   },
   "outputs": [],
   "source": [
    "#train database without uni_sales\n",
    "pd_train_filtered = pd_train_filtered.reset_index(drop=True)  #we reset the index\n",
    "y_labels = pd_train_filtered['unit_sales']\n",
    "X_train_filtered = pd_train_filtered.drop(['unit_sales'], axis = 1)\n",
    "\n",
    "print('Shape X :', X_train_filtered.shape)\n",
    "print('Shape y :', y_labels.shape)"
   ]
  },
  {
   "cell_type": "code",
   "execution_count": null,
   "metadata": {
    "execution": {
     "iopub.execute_input": "2023-04-04T10:42:18.918673Z",
     "iopub.status.busy": "2023-04-04T10:42:18.916421Z",
     "iopub.status.idle": "2023-04-04T10:42:18.939461Z",
     "shell.execute_reply": "2023-04-04T10:42:18.938041Z",
     "shell.execute_reply.started": "2023-04-04T10:42:18.918634Z"
    },
    "id": "DHNTQ02V4bwS",
    "outputId": "b7239adb-ed67-466b-dc86-6176782f1cd1"
   },
   "outputs": [],
   "source": [
    "num_test = 0.20\n",
    "X_train, X_validation, y_train, y_validation = train_test_split(X_train_filtered, y_labels, test_size=num_test, random_state=15)\n",
    "print('X_train shape :', X_train.shape)\n",
    "print('y_train shape :', y_train.shape)\n",
    "print('X_validation shape :', X_validation.shape)\n",
    "print('y_validation shape :', y_validation.shape)"
   ]
  },
  {
   "cell_type": "markdown",
   "metadata": {
    "id": "3pJxO4Zn4bwS"
   },
   "source": [
    "# Model Creation"
   ]
  },
  {
   "cell_type": "markdown",
   "metadata": {
    "id": "v2faH6F34bwS"
   },
   "source": [
    "## Random Forest"
   ]
  },
  {
   "cell_type": "code",
   "execution_count": null,
   "metadata": {
    "execution": {
     "iopub.execute_input": "2023-04-04T10:43:43.888640Z",
     "iopub.status.busy": "2023-04-04T10:43:43.888196Z",
     "iopub.status.idle": "2023-04-04T10:44:32.995955Z",
     "shell.execute_reply": "2023-04-04T10:44:32.994041Z",
     "shell.execute_reply.started": "2023-04-04T10:43:43.888600Z"
    },
    "id": "lxfhX0mn4bwS",
    "outputId": "bf5ad672-4d9e-43b2-de79-450025befef8"
   },
   "outputs": [],
   "source": [
    "RFR = RandomForestRegressor()\n",
    "parameters = {'n_estimators': [5, 10, 100],\n",
    "              'min_samples_leaf': [1,5]\n",
    "             }\n",
    "grid_obj = GridSearchCV(RFR, parameters,\n",
    "                        cv=5,\n",
    "                        n_jobs=-1,\n",
    "                        verbose=1)\n",
    "grid_obj = grid_obj.fit(X_train, y_train)\n",
    "RFR = grid_obj.best_estimator_\n",
    "RFR.fit(X_train, y_train)\n",
    "predictions = RFR.predict(X_validation)\n",
    "print('R2 score = ',r2_score(y_validation, predictions))\n",
    "print('MSE score = ',mean_squared_error(y_validation, predictions))"
   ]
  },
  {
   "cell_type": "markdown",
   "metadata": {
    "id": "xCZ-5NFS4bwS"
   },
   "source": [
    "## Linear regression"
   ]
  },
  {
   "cell_type": "code",
   "execution_count": null,
   "metadata": {
    "execution": {
     "iopub.execute_input": "2023-04-04T10:44:32.998866Z",
     "iopub.status.busy": "2023-04-04T10:44:32.998459Z",
     "iopub.status.idle": "2023-04-04T10:44:33.065213Z",
     "shell.execute_reply": "2023-04-04T10:44:33.064369Z",
     "shell.execute_reply.started": "2023-04-04T10:44:32.998825Z"
    },
    "id": "vprfjPsH4bwT",
    "outputId": "24921870-f028-44a2-c66c-baf04fd5a9c1"
   },
   "outputs": [],
   "source": [
    "LR = LinearRegression()\n",
    "LR.fit(X_train, y_train)\n",
    "predictions = LR.predict(X_validation)\n",
    "print('R2 score = ',r2_score(y_validation, predictions))\n",
    "print('MSE score = ',mean_squared_error(y_validation, predictions))"
   ]
  },
  {
   "cell_type": "markdown",
   "metadata": {
    "id": "Ln83lhwV4bwT"
   },
   "source": [
    "## Ridge regression"
   ]
  },
  {
   "cell_type": "code",
   "execution_count": null,
   "metadata": {
    "execution": {
     "iopub.execute_input": "2023-04-04T10:44:33.067362Z",
     "iopub.status.busy": "2023-04-04T10:44:33.066677Z",
     "iopub.status.idle": "2023-04-04T10:44:33.102337Z",
     "shell.execute_reply": "2023-04-04T10:44:33.101084Z",
     "shell.execute_reply.started": "2023-04-04T10:44:33.067327Z"
    },
    "id": "aXPyrCmr4bwT",
    "outputId": "9091bae7-b20b-4bfd-c07c-e7ace2e3bf12"
   },
   "outputs": [],
   "source": [
    "RR = Ridge(alpha=1.0)\n",
    "RR.fit(X_train, y_train)\n",
    "predictions = RR.predict(X_validation)\n",
    "print('R2 score = ',r2_score(y_validation, predictions))\n",
    "print('MSE score = ',mean_squared_error(y_validation, predictions))"
   ]
  },
  {
   "cell_type": "markdown",
   "metadata": {
    "id": "UwM35dB04bwT"
   },
   "source": [
    "## Keras Regression - Neural Network"
   ]
  },
  {
   "cell_type": "code",
   "execution_count": null,
   "metadata": {
    "execution": {
     "iopub.execute_input": "2023-04-04T10:44:33.105925Z",
     "iopub.status.busy": "2023-04-04T10:44:33.105130Z",
     "iopub.status.idle": "2023-04-04T10:44:33.213339Z",
     "shell.execute_reply": "2023-04-04T10:44:33.212574Z",
     "shell.execute_reply.started": "2023-04-04T10:44:33.105874Z"
    },
    "id": "T5fLZJgl4bwT",
    "outputId": "4de22016-3076-4e91-83fb-4b92878c8124"
   },
   "outputs": [],
   "source": [
    "features = np.array(X_train)\n",
    "targets = np.array(y_train.to_numpy().reshape(y_train.shape[0],1))\n",
    "features_validation= np.array(X_validation)\n",
    "targets_validation = np.array(y_validation.to_numpy().reshape(y_validation.shape[0],1))\n",
    "\n",
    "# Building the model\n",
    "model = Sequential()\n",
    "model.add(Dense(32, activation='relu', input_shape=(X_train.shape[1],)))\n",
    "model.add(Dropout(.2))\n",
    "model.add(Dense(16, activation='relu'))\n",
    "model.add(Dropout(.1))\n",
    "model.add(Dense(1))\n",
    "\n",
    "# Compiling the model\n",
    "model.compile(loss = 'mse', optimizer='adam', metrics=['mse']) #mse: mean_square_error\n",
    "model.summary()"
   ]
  },
  {
   "cell_type": "code",
   "execution_count": null,
   "metadata": {
    "execution": {
     "iopub.execute_input": "2023-04-04T09:48:40.989320Z",
     "iopub.status.busy": "2023-04-04T09:48:40.988873Z",
     "iopub.status.idle": "2023-04-04T09:53:55.058276Z",
     "shell.execute_reply": "2023-04-04T09:53:55.057310Z",
     "shell.execute_reply.started": "2023-04-04T09:48:40.989280Z"
    },
    "id": "WJ55mPe-4bwT",
    "outputId": "96bd54eb-4c12-4f24-efc4-7a68317fd185"
   },
   "outputs": [],
   "source": [
    "# Training the model\n",
    "epochs_tot = 1000\n",
    "epochs_step = 250\n",
    "epochs_ratio = int(epochs_tot / epochs_step)\n",
    "hist =np.array([])\n",
    "\n",
    "for i in range(epochs_ratio):\n",
    "    history = model.fit(features, targets, epochs=epochs_step, batch_size=100, verbose=0)\n",
    "    \n",
    "    # Evaluating the model on the training and testing set\n",
    "    print(\"Step : \" , i * epochs_step, \"/\", epochs_tot)\n",
    "    score = model.evaluate(features, targets)\n",
    "    print(\"Training MSE:\", score[1])\n",
    "    score = model.evaluate(features_validation, targets_validation)\n",
    "    print(\"Validation MSE:\", score[1], \"\\n\")"
   ]
  },
  {
   "cell_type": "code",
   "execution_count": null,
   "metadata": {
    "execution": {
     "iopub.execute_input": "2023-04-04T09:53:55.061022Z",
     "iopub.status.busy": "2023-04-04T09:53:55.060526Z",
     "iopub.status.idle": "2023-04-04T09:53:55.497885Z",
     "shell.execute_reply": "2023-04-04T09:53:55.496426Z",
     "shell.execute_reply.started": "2023-04-04T09:53:55.060979Z"
    },
    "id": "vN-_LhxW4bwT",
    "outputId": "afa539b8-57a2-4bb2-9a38-015ece06ad7b"
   },
   "outputs": [],
   "source": [
    "predictions = model.predict(features_validation, verbose=0)\n",
    "\n",
    "print('R2 score = ',r2_score(y_validation, predictions))\n",
    "print('MSE score = ',mean_squared_error(y_validation, predictions))"
   ]
  },
  {
   "cell_type": "code",
   "execution_count": null,
   "metadata": {
    "id": "4LtXrbj84bwT"
   },
   "outputs": [],
   "source": []
  }
 ],
 "metadata": {
  "colab": {
   "provenance": []
  },
  "kernelspec": {
   "display_name": "Python 3 (ipykernel)",
   "language": "python",
   "name": "python3"
  },
  "language_info": {
   "codemirror_mode": {
    "name": "ipython",
    "version": 3
   },
   "file_extension": ".py",
   "mimetype": "text/x-python",
   "name": "python",
   "nbconvert_exporter": "python",
   "pygments_lexer": "ipython3",
   "version": "3.9.13"
  }
 },
 "nbformat": 4,
 "nbformat_minor": 1
}
